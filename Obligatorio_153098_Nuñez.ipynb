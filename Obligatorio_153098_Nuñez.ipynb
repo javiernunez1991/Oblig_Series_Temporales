{
 "cells": [
  {
   "cell_type": "markdown",
   "id": "23d401e0",
   "metadata": {},
   "source": [
    "### Contexto"
   ]
  },
  {
   "cell_type": "markdown",
   "id": "15a12856",
   "metadata": {},
   "source": [
    "Este trabajo tiene por objeto analizar y predecir algunas de las series que componen el Índice de Precios al Consumo (IPC), el cual es un indicador del nivel general de precios de bienes y servicios que los hogares adquieren dentro del territorio nacional. Su variación a lo largo del tiempo es una aproximación de la variación en el costo de vida, y su control es uno de los objetivos de la política macroeconómica y monetaria de los países.\n",
    "\n",
    "IPC en Uruguay\n",
    "\n",
    "1. La serie de índices de precios se inició en el año 1914 a partir de estudios sobre las condiciones de vida de la población, pero no fue hasta 1963 que se produjo el primer índice elaborado a partir de la información de una encuesta de gastos del consumo de los hogares. Desde entonces, los sucesivos cambios de base tienen por objetivo actualizar la composición y estructura de la canasta de consumo, con el fin de reflejar de la mejor manera posible los verdaderos niveles de gastos de la ciudadanía. El último cambio de base (Octubre 2022) establece una nueva canasta de referencia, la cual se construyó en base a la Encuesta de Gastos e Ingresos de los Hogares (ENGIH) realizada entre los meses de Noviembre de 2016 y Octubre de 2017. \n",
    "\n",
    "2. Se divide en dos grupos, donde cada uno de ellos esta compuesto por distintas series económicas:\n",
    "    - IPC de Bienes Transables: Los bienes transables son todos aquellos bienes que pueden ser exportables y/o importables. A continuación se detallan las series que lo componen y su peso relativo dentro del cálculo del índice:\n",
    "        * Alimentos y bebidas no alcohólicas (25.85 %)\n",
    "        * Bebidas alcohólicas, tabaco y narcóticos (3.64 %)\n",
    "        * Ropa y Calzado (2.91 %)\n",
    "        * Mobiliario, enseres domésticos, y demás artículos regulares de los hogares (5.42 %)\n",
    "    - IPC de Bienes No Transables: Los bienes no transables son aquellos productos o servicios que no se pueden fácilmente intercambiar entre economías debido a su naturaleza o características específicas. Estos bienes son típicamente consumidos localmente. Las series que lo componen y su peso relativo se detallan a continuación:\n",
    "        * Vivienda, agua, electricidad, gas, y otros combustibles (13.00 %)\n",
    "        * Salud (3.85 %)\n",
    "        * Transporte (11.67 %)\n",
    "        * Información y Comunicación (6.18 %)\n",
    "        * Recreación, deporte y cultura (5.66 %)\n",
    "        * Servicios de Educacion (3.46 %)\n",
    "        * Restaurantes y servicios de alojamiento (8.31 %)\n",
    "        * Seguros y servicios financieros (5.69 %)\n",
    "        * Cuidado personal, protección social y bienes diversos (4.35 %)\n",
    "        \n",
    "En el cuadro al final del siguiente link se pueden comprobar las ponderaciones mencionadas (ver sección \"Total Pais\"):\n",
    "\n",
    "https://www5.ine.gub.uy/documents/Estad%C3%ADsticasecon%C3%B3micas/HTML/IPC/2023/Informe-IPC-MAYO-2023.html\n",
    "\n",
    "3. Algunos otros usos del IPC\n",
    "    - Deflactar magnitudes monetarias a efectos de expresarlas en términos reales \n",
    "    - Ajustar unidades de cuenta como la Unidad Indexada (UI), o la Base de Prestaciones y Contribuciones (BPC). \n",
    "    - Indexar ingresos, prestaciones y contribuciones a la seguridad social, \n",
    "    - Indexar precios de contratos, valores de activos financieros, tarifas y tramos impositivos."
   ]
  },
  {
   "cell_type": "markdown",
   "id": "fa8aaa81",
   "metadata": {},
   "source": [
    "### Objetivos"
   ]
  },
  {
   "cell_type": "markdown",
   "id": "37985e2a",
   "metadata": {},
   "source": [
    "1. Seleccionar cuatro de las trece series que componen el IPC (trabajar con los datos hasta Diciembre 2022).\n",
    "2. Para cada una de las series seleccionadas, generar predicciones con modelos autoarima para el período Enero23-Mayo23.\n",
    "3. Analizar las series y en base a sus características proponer modelos alternativos.\n",
    "4. Obtener un menor error con los modelos del punto vs los modelos autoarima del punto 2."
   ]
  },
  {
   "cell_type": "markdown",
   "id": "b2b984b2",
   "metadata": {},
   "source": [
    "### 1. Elección de series"
   ]
  },
  {
   "cell_type": "code",
   "execution_count": 1,
   "id": "eb56bc25",
   "metadata": {},
   "outputs": [
    {
     "data": {
      "text/html": [
       "<table>\n",
       "<thead><tr><th></th><th scope=col>used</th><th scope=col>(Mb)</th><th scope=col>gc trigger</th><th scope=col>(Mb)</th><th scope=col>max used</th><th scope=col>(Mb)</th></tr></thead>\n",
       "<tbody>\n",
       "\t<tr><th scope=row>Ncells</th><td>508324 </td><td>27.2   </td><td>1141398</td><td>61     </td><td> 621911</td><td>33.3   </td></tr>\n",
       "\t<tr><th scope=row>Vcells</th><td>940192 </td><td> 7.2   </td><td>8388608</td><td>64     </td><td>1601254</td><td>12.3   </td></tr>\n",
       "</tbody>\n",
       "</table>\n"
      ],
      "text/latex": [
       "\\begin{tabular}{r|llllll}\n",
       "  & used & (Mb) & gc trigger & (Mb) & max used & (Mb)\\\\\n",
       "\\hline\n",
       "\tNcells & 508324  & 27.2    & 1141398 & 61      &  621911 & 33.3   \\\\\n",
       "\tVcells & 940192  &  7.2    & 8388608 & 64      & 1601254 & 12.3   \\\\\n",
       "\\end{tabular}\n"
      ],
      "text/markdown": [
       "\n",
       "| <!--/--> | used | (Mb) | gc trigger | (Mb) | max used | (Mb) |\n",
       "|---|---|---|---|---|---|---|\n",
       "| Ncells | 508324  | 27.2    | 1141398 | 61      |  621911 | 33.3    |\n",
       "| Vcells | 940192  |  7.2    | 8388608 | 64      | 1601254 | 12.3    |\n",
       "\n"
      ],
      "text/plain": [
       "       used   (Mb) gc trigger (Mb) max used (Mb)\n",
       "Ncells 508324 27.2 1141398    61    621911  33.3\n",
       "Vcells 940192  7.2 8388608    64   1601254  12.3"
      ]
     },
     "metadata": {},
     "output_type": "display_data"
    },
    {
     "name": "stderr",
     "output_type": "stream",
     "text": [
      "Registered S3 methods overwritten by 'ggplot2':\n",
      "  method         from \n",
      "  [.quosures     rlang\n",
      "  c.quosures     rlang\n",
      "  print.quosures rlang\n",
      "Registered S3 method overwritten by 'xts':\n",
      "  method     from\n",
      "  as.zoo.xts zoo \n",
      "Registered S3 method overwritten by 'quantmod':\n",
      "  method            from\n",
      "  as.zoo.data.frame zoo \n",
      "Registered S3 methods overwritten by 'forecast':\n",
      "  method             from    \n",
      "  fitted.fracdiff    fracdiff\n",
      "  residuals.fracdiff fracdiff\n",
      "\n",
      "Attaching package: 'forecast'\n",
      "\n",
      "The following object is masked from 'package:astsa':\n",
      "\n",
      "    gas\n",
      "\n"
     ]
    },
    {
     "data": {
      "image/png": "[encoded data removed]",
      "text/plain": [
       "Plot with title \"Informacion y Comunicacion\""
      ]
     },
     "metadata": {},
     "output_type": "display_data"
    }
   ],
   "source": [
    "# Instalo las librerias que necesito\n",
    "rm(list=ls())\n",
    "gc()\n",
    "library(astsa, quietly = T)\n",
    "library(forecast, quietly = T)\n",
    "\n",
    "# Cargo los datos de un csv que previamente fue subido a github\n",
    "url <- \"https://raw.githubusercontent.com/javiernunez1991/Oblig_Series_Temporales/main/Series.csv\"\n",
    "df <- read.csv(url, sep=\";\")\n",
    "df <- na.omit(df)\n",
    "\n",
    "# Elijo 4 series (dos de Transables y dos de No Transables) que sean lo mas diferentes posibles \n",
    "serie1 <- ts(data=df$Alimentos.Y.Bebidas.No.Alcohólicas, start = 2011, frequency=12)\n",
    "serie2 <- ts(data=df$Bebidas.Alcohólicas..Tabaco.Y.Narcóticos, start = 2011, frequency=12)\n",
    "serie3 <- ts(data=df$Vivienda..Agua..Electricidad..Gas.Y.Otros.Combustibles, start = 2011, frequency=12)\n",
    "serie4 <- ts(data=df$Información.Y.Comunicación, start = 2011, frequency=12)\n",
    "\n",
    "nombres <- list(\"Alim. y Beb. no alcoholicas\",\n",
    "                \"Beb. alcoholicas, tabaco y narcoticos\",\n",
    "                \"Vivienda, Agua, Electricidad, Gas y otros\",\n",
    "                \"Informacion y Comunicacion\")\n",
    "series <- list(\"serie1\", \"serie2\", \"serie3\", \"serie4\")\n",
    "\n",
    "# Elijo 4 series (dos de Transables y dos de No Transables) que sean lo mas diferentes posibles \n",
    "par(mfrow=c(2,2))\n",
    "for(i in 1:length(series)){\n",
    "    tsplot(get( as.character(series[i]) ), main=nombres[[i]]) # serie con tendencia creciente\n",
    "}"
   ]
  },
  {
   "cell_type": "markdown",
   "id": "9eb6e0a6",
   "metadata": {},
   "source": [
    "#### Genero los grupos de Train y Validation"
   ]
  },
  {
   "cell_type": "code",
   "execution_count": 2,
   "id": "f9132eb4",
   "metadata": {},
   "outputs": [],
   "source": [
    "# Genero las series para train y validation\n",
    "largo_series <- nrow(df)\n",
    "meses_a_pred <- 7\n",
    "serie1_train <- ts(serie1[ 1:(largo_series-meses_a_pred) ], start = 2011, frequency=12)\n",
    "serie2_train <- ts(serie2[ 1:(largo_series-meses_a_pred) ], start = 2011, frequency=12)\n",
    "serie3_train <- ts(serie3[ 1:(largo_series-meses_a_pred) ], start = 2011, frequency=12)\n",
    "serie4_train <- ts(serie4[ 1:(largo_series-meses_a_pred) ], start = 2011, frequency=12)\n",
    "serie1_validation <- ts(tail(serie1, meses_a_pred), start=2022 + 10/12 , frequency=12)\n",
    "serie2_validation <- ts(tail(serie2, meses_a_pred), start=2022 + 10/12 , frequency=12)\n",
    "serie3_validation <- ts(tail(serie3, meses_a_pred), start=2022 + 10/12 , frequency=12)\n",
    "serie4_validation <- ts(tail(serie4, meses_a_pred), start=2022 + 10/12 , frequency=12)\n",
    "\n",
    "vector_series_tr <- list(\"serie1_train\", \"serie2_train\", \"serie3_train\", \"serie4_train\")\n",
    "vector_series_val <- list(\"serie1_validation\", \"serie2_validation\", \"serie3_validation\", \"serie4_validation\")"
   ]
  },
  {
   "cell_type": "markdown",
   "id": "6ca1ab99",
   "metadata": {},
   "source": [
    "### 2. Ajuste de las series con algoritmo autoarima"
   ]
  },
  {
   "cell_type": "code",
   "execution_count": 3,
   "id": "693f59e0",
   "metadata": {},
   "outputs": [
    {
     "name": "stdout",
     "output_type": "stream",
     "text": [
      "[1] \"La serie Alim. y Beb. no alcoholicas --> se ajusto con autorima y genero un -->  ARIMA(2,2,3)(1,0,0)[12]\"\n",
      "[1] \"La serie Beb. alcoholicas, tabaco y narcoticos --> se ajusto con autorima y genero un -->  ARIMA(0,1,1)(1,1,1)[12]\"\n",
      "[1] \"La serie Vivienda, Agua, Electricidad, Gas y otros --> se ajusto con autorima y genero un -->  ARIMA(1,1,1)(0,1,1)[12]\"\n",
      "[1] \"La serie Informacion y Comunicacion --> se ajusto con autorima y genero un -->  ARIMA(0,2,1)(1,0,1)[12]\"\n"
     ]
    },
    {
     "data": {
      "image/png": "[encoded data removed]",
      "text/plain": [
       "Plot with title \"Informacion y Comunicacion\""
      ]
     },
     "metadata": {},
     "output_type": "display_data"
    }
   ],
   "source": [
    "# Entreno las series con algoritmos auto.arima, y genero las predicciones\n",
    "vector_modelos <- list() \n",
    "vector_arima_orders <- list()\n",
    "vector_predicciones <- list()\n",
    "diferencias <- list()\n",
    "\n",
    "# Grafico las predicciones con su intervalo de confianza\n",
    "par(mfrow=c(2,2))\n",
    "for(i in 1:length(vector_series_tr)){\n",
    "  r <- get(vector_series_tr[[i]])\n",
    "  fit <- auto.arima(r)\n",
    "  vector_modelos[[i]] <- fit\n",
    "  vector_arima_orders[[i]] <- arimaorder(fit)\n",
    "  vector_predicciones[[i]] <- forecast(vector_modelos[[i]], h=meses_a_pred)\n",
    "  print(paste(\"La serie\", nombres[[i]], \"--> se ajusto con autorima y genero un --> \", vector_predicciones[[i]]$method ))\n",
    "  diferencias[[i]] <- vector_predicciones[[i]]$mean - get(vector_series_val[[i]])\n",
    "  tsplot(vector_predicciones[[i]], main=nombres[[i]], ylab=\"Indice\")\n",
    "}"
   ]
  },
  {
   "cell_type": "code",
   "execution_count": 4,
   "id": "f0e877c0",
   "metadata": {},
   "outputs": [
    {
     "data": {
      "image/png": "[encoded data removed]",
      "text/plain": [
       "Plot with title \"Informacion y Comunicacion\""
      ]
     },
     "metadata": {},
     "output_type": "display_data"
    }
   ],
   "source": [
    "# Grafico los valores reales de la serie vs la prediccion generada con auto.arima\n",
    "par(mfrow=c(2,2))\n",
    "for(i in 1:length(vector_series_tr)){\n",
    "  tsplot(get(vector_series_val[[i]]), main=nombres[[i]], \n",
    "         lwd=2, ylim=c(90,110), ylab=\"Indice\")\n",
    "  lines(vector_predicciones[[i]]$mean, col=\"red\", \n",
    "        lwd=2, lty=\"dashed\")\n",
    "  legend(\"bottomleft\", legend=c(\"Valor_real\", \"Benchmark\"), \n",
    "         col=c(\"black\", \"orange\"), lty=c(1,2), cex=0.9, lwd=c(2,2))\n",
    "}"
   ]
  },
  {
   "cell_type": "markdown",
   "id": "a052a3b6",
   "metadata": {},
   "source": [
    "### 3. Analisis de Series"
   ]
  },
  {
   "cell_type": "markdown",
   "id": "a72aab95",
   "metadata": {},
   "source": [
    "Al ser series economicas que presentan tendencia, es recomendable aplicarles diferenciación (diff(log)) y estudiar sus crecimientos porcentuales"
   ]
  },
  {
   "cell_type": "markdown",
   "id": "c02e5e4f",
   "metadata": {},
   "source": [
    "#### 3.1 Alimentos y Bebidas no Alcohólicas"
   ]
  },
  {
   "cell_type": "code",
   "execution_count": null,
   "id": "c34651f3",
   "metadata": {},
   "outputs": [],
   "source": [
    "par(mfrow=c(1,1), cex.lab=0.7)\n",
    "options(repr.plot.width=4, repr.plot.height=3, repr.plot.res=120)\n",
    "serie1 <- ts(data=df$Alimentos.Y.Bebidas.No.Alcohólicas, start = 2011, frequency=12)\n",
    "serie1 <- diff(log(serie1))\n",
    "tsplot(serie1, main=\"diff(log( serie1 ))\", cex.main=0.8, ylab=\"%\", cex.axis=20)"
   ]
  },
  {
   "cell_type": "code",
   "execution_count": null,
   "id": "7254192b",
   "metadata": {},
   "outputs": [],
   "source": [
    "par(mfrow=c(1,2), cex.main=0.8, cex.lab=0.7, cex.axis=0.7)\n",
    "options(repr.plot.width=8, repr.plot.height=3, repr.plot.res=120)\n",
    "acf(serie1, main=\"ACF serie1\")\n",
    "pacf(serie1, main=\"PACF serie1\")"
   ]
  },
  {
   "cell_type": "markdown",
   "id": "e36aada5",
   "metadata": {},
   "source": [
    "#### 3.2 Bebidas Alcohólicas, Tabaco y Narcóticos"
   ]
  },
  {
   "cell_type": "code",
   "execution_count": null,
   "id": "4d8c6477",
   "metadata": {},
   "outputs": [],
   "source": [
    "par(mfrow=c(1,1), cex.lab=0.7)\n",
    "options(repr.plot.width=4, repr.plot.height=3, repr.plot.res=120)\n",
    "serie2 <- ts(data=df$Bebidas.Alcohólicas..Tabaco.Y.Narcóticos, start = 2011, frequency=12)\n",
    "serie2 <- diff(log(serie2))\n",
    "tsplot(serie2, main=\"diff(log( serie2 ))\", cex.main=0.8, ylab=\"%\", cex.axis=20)"
   ]
  },
  {
   "cell_type": "code",
   "execution_count": null,
   "id": "823b2faf",
   "metadata": {},
   "outputs": [],
   "source": [
    "par(mfrow=c(1,2), cex.main=0.8, cex.lab=0.7, cex.axis=0.7)\n",
    "options(repr.plot.width=8, repr.plot.height=3, repr.plot.res=120)\n",
    "acf(serie2, main=\"ACF serie1\")\n",
    "pacf(serie2, main=\"PACF serie1\")"
   ]
  },
  {
   "cell_type": "markdown",
   "id": "53d8b00e",
   "metadata": {},
   "source": [
    "#### 3.3 Vivienda, Agua, Electricidad, Gas y otros"
   ]
  },
  {
   "cell_type": "code",
   "execution_count": null,
   "id": "fc4f02d1",
   "metadata": {},
   "outputs": [],
   "source": [
    "par(mfrow=c(1,1), cex.lab=0.7)\n",
    "options(repr.plot.width=4, repr.plot.height=3, repr.plot.res=120)\n",
    "serie3 <- ts(data=df$Vivienda..Agua..Electricidad..Gas.Y.Otros.Combustibles, start = 2011, frequency=12)\n",
    "serie3 <- diff(log(serie3))\n",
    "tsplot(serie3, main=\"diff(log( serie3 ))\", cex.main=0.8, ylab=\"%\", cex.axis=20)"
   ]
  },
  {
   "cell_type": "code",
   "execution_count": null,
   "id": "ff1c3b82",
   "metadata": {},
   "outputs": [],
   "source": [
    "par(mfrow=c(1,2), cex.main=0.8, cex.lab=0.7, cex.axis=0.7)\n",
    "options(repr.plot.width=8, repr.plot.height=3, repr.plot.res=120)\n",
    "acf(serie1, main=\"ACF serie1\")\n",
    "pacf(serie1, main=\"PACF serie1\")"
   ]
  },
  {
   "cell_type": "code",
   "execution_count": null,
   "id": "d85a4f3c",
   "metadata": {},
   "outputs": [],
   "source": [
    "par(mfrow=c(1,2), cex.main=0.8, cex.lab=0.7, cex.axis=0.7)\n",
    "options(repr.plot.width=8, repr.plot.height=3, repr.plot.res=120)\n",
    "acf(serie3, main=\"ACF serie1\")\n",
    "pacf(serie3, main=\"PACF serie1\")"
   ]
  },
  {
   "cell_type": "markdown",
   "id": "b2598b6d",
   "metadata": {},
   "source": [
    "#### 3.4 Información y Comunicaciòn"
   ]
  },
  {
   "cell_type": "code",
   "execution_count": null,
   "id": "37eba659",
   "metadata": {},
   "outputs": [],
   "source": [
    "par(mfrow=c(1,1), cex.lab=0.7)\n",
    "options(repr.plot.width=4, repr.plot.height=3, repr.plot.res=120)\n",
    "serie4 <- ts(data=df$Información.Y.Comunicación, start = 2011, frequency=12)\n",
    "serie4 <- diff(log(serie4))\n",
    "tsplot(serie4, main=\"diff(log( serie4 ))\", cex.main=0.8, ylab=\"%\", cex.axis=20)"
   ]
  },
  {
   "cell_type": "code",
   "execution_count": null,
   "id": "b7c8c5e9",
   "metadata": {},
   "outputs": [],
   "source": [
    "par(mfrow=c(1,2), cex.main=0.8, cex.lab=0.7, cex.axis=0.7)\n",
    "options(repr.plot.width=8, repr.plot.height=3, repr.plot.res=120)\n",
    "acf(serie4, main=\"ACF serie1\")\n",
    "pacf(serie4, main=\"PACF serie1\")"
   ]
  }
 ],
 "metadata": {
  "kernelspec": {
   "display_name": "R",
   "language": "R",
   "name": "ir"
  },
  "language_info": {
   "codemirror_mode": "r",
   "file_extension": ".r",
   "mimetype": "text/x-r-source",
   "name": "R",
   "pygments_lexer": "r",
   "version": "3.6.1"
  }
 },
 "nbformat": 4,
 "nbformat_minor": 5
}
