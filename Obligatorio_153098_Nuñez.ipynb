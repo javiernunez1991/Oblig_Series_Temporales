{
 "cells": [
  {
   "cell_type": "markdown",
   "id": "23d401e0",
   "metadata": {},
   "source": [
    "### Contexto"
   ]
  },
  {
   "cell_type": "markdown",
   "id": "15a12856",
   "metadata": {},
   "source": [
    "Este trabajo tiene por objeto analizar y predecir algunas de las series que componen el Índice de Precios al Consumo (IPC), el cual es un indicador del nivel general de precios de bienes y servicios que los hogares adquieren dentro del territorio nacional. Su variación a lo largo del tiempo es una aproximación de la variación en el costo de vida, y su control es uno de los objetivos de la política macroeconómica y monetaria de los países.\n",
    "\n",
    "IPC en Uruguay\n",
    "\n",
    "1. La serie de índices de precios se inició en el año 1914 a partir de estudios sobre las condiciones de vida de la población, pero no fue hasta 1963 que se produjo el primer índice elaborado a partir de la información de una encuesta de gastos del consumo de los hogares. Desde entonces, los sucesivos cambios de base tienen por objetivo actualizar la composición y estructura de la canasta de consumo, con el fin de reflejar de la mejor manera posible los verdaderos niveles de gastos de la ciudadanía. El último cambio de base (Octubre 2022) establece una nueva canasta de referencia, la cual se construyó en base a la Encuesta de Gastos e Ingresos de los Hogares (ENGIH) realizada entre los meses de Noviembre de 2016 y Octubre de 2017. \n",
    "\n",
    "2. Se divide en dos grupos, donde cada uno de ellos esta compuesto por distintas series económicas:\n",
    "    - IPC de Bienes Transables: Los bienes transables son todos aquellos bienes que pueden ser exportables y/o importables. A continuación se detallan las series que lo componen y su peso relativo dentro del cálculo del índice:\n",
    "        * Alimentos y bebidas no alcohólicas (25.85 %)\n",
    "        * Bebidas alcohólicas, tabaco y narcóticos (3.64 %)\n",
    "        * Ropa y Calzado (2.91 %)\n",
    "        * Mobiliario, enseres domésticos, y demás artículos regulares de los hogares (5.42 %)\n",
    "    - IPC de Bienes No Transables: Los bienes no transables son aquellos productos o servicios que no se pueden fácilmente intercambiar entre economías debido a su naturaleza o características específicas. Estos bienes son típicamente consumidos localmente. Las series que lo componen y su peso relativo se detallan a continuación:\n",
    "        * Vivienda, agua, electricidad, gas, y otros combustibles (13.00 %)\n",
    "        * Salud (3.85 %)\n",
    "        * Transporte (11.67 %)\n",
    "        * Información y Comunicación (6.18 %)\n",
    "        * Recreación, deporte y cultura (5.66 %)\n",
    "        * Servicios de Educacion (3.46 %)\n",
    "        * Restaurantes y servicios de alojamiento (8.31 %)\n",
    "        * Seguros y servicios financieros (5.69 %)\n",
    "        * Cuidado personal, protección social y bienes diversos (4.35 %)\n",
    "        \n",
    "En el cuadro al final del siguiente link se pueden comprobar las ponderaciones mencionadas (ver sección \"Total Pais\"):\n",
    "\n",
    "https://www5.ine.gub.uy/documents/Estad%C3%ADsticasecon%C3%B3micas/HTML/IPC/2023/Informe-IPC-MAYO-2023.html\n",
    "\n",
    "3. Algunos otros usos del IPC\n",
    "    - Deflactar magnitudes monetarias a efectos de expresarlas en términos reales \n",
    "    - Ajustar unidades de cuenta como la Unidad Indexada (UI), o la Base de Prestaciones y Contribuciones (BPC). \n",
    "    - Indexar ingresos, prestaciones y contribuciones a la seguridad social, \n",
    "    - Indexar precios de contratos, valores de activos financieros, tarifas y tramos impositivos."
   ]
  },
  {
   "cell_type": "markdown",
   "id": "fa8aaa81",
   "metadata": {},
   "source": [
    "### Objetivos"
   ]
  },
  {
   "cell_type": "markdown",
   "id": "37985e2a",
   "metadata": {},
   "source": [
    "1. Seleccionar cuatro de las trece series que componen el IPC (trabajar con los datos hasta Diciembre 2022).\n",
    "2. Para cada una de las series seleccionadas, generar predicciones con modelos autoarima para el período Enero23-Mayo23.\n",
    "3. Analizar las series y en base a sus características proponer modelos alternativos.\n",
    "4. Obtener un menor error con los modelos del punto vs los modelos autoarima del punto 2."
   ]
  },
  {
   "cell_type": "markdown",
   "id": "b2b984b2",
   "metadata": {},
   "source": [
    "### 1. Elección de series"
   ]
  },
  {
   "cell_type": "code",
   "execution_count": 6,
   "id": "eb56bc25",
   "metadata": {},
   "outputs": [
    {
     "data": {
      "text/html": [
       "<table>\n",
       "<thead><tr><th></th><th scope=col>used</th><th scope=col>(Mb)</th><th scope=col>gc trigger</th><th scope=col>(Mb)</th><th scope=col>max used</th><th scope=col>(Mb)</th></tr></thead>\n",
       "<tbody>\n",
       "\t<tr><th scope=row>Ncells</th><td> 844259</td><td>45.1   </td><td>1672224</td><td>89.4   </td><td>1672224</td><td>89.4   </td></tr>\n",
       "\t<tr><th scope=row>Vcells</th><td>1393409</td><td>10.7   </td><td>8388608</td><td>64.0   </td><td>2371154</td><td>18.1   </td></tr>\n",
       "</tbody>\n",
       "</table>\n"
      ],
      "text/latex": [
       "\\begin{tabular}{r|llllll}\n",
       "  & used & (Mb) & gc trigger & (Mb) & max used & (Mb)\\\\\n",
       "\\hline\n",
       "\tNcells &  844259 & 45.1    & 1672224 & 89.4    & 1672224 & 89.4   \\\\\n",
       "\tVcells & 1393409 & 10.7    & 8388608 & 64.0    & 2371154 & 18.1   \\\\\n",
       "\\end{tabular}\n"
      ],
      "text/markdown": [
       "\n",
       "| <!--/--> | used | (Mb) | gc trigger | (Mb) | max used | (Mb) |\n",
       "|---|---|---|---|---|---|---|\n",
       "| Ncells |  844259 | 45.1    | 1672224 | 89.4    | 1672224 | 89.4    |\n",
       "| Vcells | 1393409 | 10.7    | 8388608 | 64.0    | 2371154 | 18.1    |\n",
       "\n"
      ],
      "text/plain": [
       "       used    (Mb) gc trigger (Mb) max used (Mb)\n",
       "Ncells  844259 45.1 1672224    89.4 1672224  89.4\n",
       "Vcells 1393409 10.7 8388608    64.0 2371154  18.1"
      ]
     },
     "metadata": {},
     "output_type": "display_data"
    },
    {
     "data": {
      "image/png": "[encoded data removed]",
      "text/plain": [
       "Plot with title \"Información y Comunicación\""
      ]
     },
     "metadata": {},
     "output_type": "display_data"
    }
   ],
   "source": [
    "# Instalo las librerias que necesito\n",
    "rm(list=ls())\n",
    "gc()\n",
    "library(astsa, quietly = T)\n",
    "library(forecast, quietly = T)\n",
    "\n",
    "# Cargo los datos de un csv que previamente fue subido a github\n",
    "url <- \"https://raw.githubusercontent.com/javiernunez1991/Oblig_Series_Temporales/main/Series.csv\"\n",
    "df <- read.csv(url, sep=\";\")\n",
    "df <- na.omit(df)\n",
    "\n",
    "# Elijo 4 series (dos de Transables y dos de No Transables) que sean lo mas diferentes posibles \n",
    "serie1 <- ts(data=df$Alimentos.Y.Bebidas.No.Alcohólicas, start = 2011, frequency=12)\n",
    "serie2 <- ts(data=df$Bebidas.Alcohólicas..Tabaco.Y.Narcóticos, start = 2011, frequency=12)\n",
    "serie3 <- ts(data=df$Vivienda..Agua..Electricidad..Gas.Y.Otros.Combustibles, start = 2011, frequency=12)\n",
    "serie4 <- ts(data=df$Información.Y.Comunicación, start = 2011, frequency=12)\n",
    "\n",
    "# Grafico para comprobar que se comportan de manera diferente\n",
    "par(mfrow=c(2,2))\n",
    "tsplot(serie1, main=\"Alimentos y bebidas no alcohólicas\") # serie con tendencia creciente\n",
    "tsplot(serie2, main=\"Beb. alcohólicas, tabaco y narcóticos\") # serie con tendencia creciente\n",
    "tsplot(serie3, main=\"Vivienda, agua, electricidad, gas, etc\") # serie con tendencia creciente\n",
    "tsplot(serie4, main=\"Información y Comunicación\") # serie con tendencia creciente"
   ]
  },
  {
   "cell_type": "markdown",
   "id": "9eb6e0a6",
   "metadata": {},
   "source": [
    "#### Genero los grupos de Train y Validation"
   ]
  },
  {
   "cell_type": "code",
   "execution_count": 7,
   "id": "f9132eb4",
   "metadata": {},
   "outputs": [],
   "source": [
    "# Genero las series para train y validation\n",
    "largo_series <- nrow(df)\n",
    "\n",
    "# En train me quedo con los datos hasta Diciembre2022\n",
    "serie1_train <- serie1[ 1:(largo_series-5) ]\n",
    "serie2_train <- serie2[ 1:(largo_series-5) ]\n",
    "serie3_train <- serie3[ 1:(largo_series-5) ]\n",
    "serie4_train <- serie4[ 1:(largo_series-5) ]\n",
    "\n",
    "# En validation me quedo con los datos desde Enero2023\n",
    "serie1_validation <- tail(serie1, 5)\n",
    "serie2_validation <- tail(serie2, 5)\n",
    "serie3_validation <- tail(serie3, 5)\n",
    "serie4_validation <- tail(serie4, 5)"
   ]
  },
  {
   "cell_type": "markdown",
   "id": "6ca1ab99",
   "metadata": {},
   "source": [
    "### 2. Ajuste de las series con algoritmo autoarima"
   ]
  },
  {
   "cell_type": "code",
   "execution_count": 53,
   "id": "693f59e0",
   "metadata": {},
   "outputs": [
    {
     "name": "stdout",
     "output_type": "stream",
     "text": [
      "[1] \"serie1_train se entreno con autorima y genero un ARMA con parámetros:\"\n",
      "p d q \n",
      "2 2 1 \n",
      "[1] \"serie2_train se entreno con autorima y genero un ARMA con parámetros:\"\n",
      "p d q \n",
      "2 1 2 \n",
      "[1] \"serie3_train se entreno con autorima y genero un ARMA con parámetros:\"\n",
      "p d q \n",
      "1 1 1 \n",
      "[1] \"serie4_train se entreno con autorima y genero un ARMA con parámetros:\"\n",
      "p d q \n",
      "0 2 1 \n"
     ]
    }
   ],
   "source": [
    "vector_series <- list(\"serie1_train\", \"serie2_train\", \"serie3_train\", \"serie4_train\")\n",
    "vector_modelos <- list()\n",
    "vector_arima_orders <- list()\n",
    "\n",
    "for(i in 1:length(vector_series)){\n",
    "    r <- get( as.character(vector_series[i]) )\n",
    "    fit <- auto.arima(r)\n",
    "    vector_modelos[[i]] <- fit\n",
    "    vector_arima_orders[[i]] <- arimaorder(fit)\n",
    "    print(paste(vector_series[i], \"se entreno con autorima y genero un ARMA con parámetros:\"))\n",
    "    print(vector_arima_orders[[i]])    \n",
    "}"
   ]
  },
  {
   "cell_type": "markdown",
   "id": "7ff533ca",
   "metadata": {},
   "source": [
    "#### Realizo las predicciones con los modelos anteriores"
   ]
  },
  {
   "cell_type": "code",
   "execution_count": null,
   "id": "f0e877c0",
   "metadata": {},
   "outputs": [],
   "source": []
  }
 ],
 "metadata": {
  "kernelspec": {
   "display_name": "R",
   "language": "R",
   "name": "ir"
  },
  "language_info": {
   "codemirror_mode": "r",
   "file_extension": ".r",
   "mimetype": "text/x-r-source",
   "name": "R",
   "pygments_lexer": "r",
   "version": "3.6.1"
  }
 },
 "nbformat": 4,
 "nbformat_minor": 5
}
